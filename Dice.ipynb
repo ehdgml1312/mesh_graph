{
 "cells": [
  {
   "cell_type": "code",
   "execution_count": 2,
   "metadata": {},
   "outputs": [],
   "source": [
    "import torch\n",
    "from torch_geometric.data import DataLoader\n",
    "from model import *\n",
    "from tqdm import tqdm\n",
    "import matplotlib.pyplot as plt\n",
    "import random\n",
    "import yaml\n",
    "from easydict import EasyDict\n",
    "import os\n",
    "from statistics import mean, stdev\n"
   ]
  },
  {
   "cell_type": "code",
   "execution_count": 2,
   "metadata": {},
   "outputs": [],
   "source": [
    "filenames = [f for f in os.listdir(\"exp\") if not f.startswith('.')] "
   ]
  },
  {
   "cell_type": "code",
   "execution_count": 3,
   "metadata": {},
   "outputs": [],
   "source": [
    "filenames.sort()"
   ]
  },
  {
   "cell_type": "code",
   "execution_count": 4,
   "metadata": {},
   "outputs": [
    {
     "data": {
      "text/plain": [
       "['asap_1_16_0',\n",
       " 'asap_1_1_0',\n",
       " 'asap_1_4_0',\n",
       " 'asap_1_8_0',\n",
       " 'avg_1_16_0',\n",
       " 'avg_1_1_0',\n",
       " 'avg_1_4_0',\n",
       " 'avg_1_8_0',\n",
       " 'avg_2_16_0',\n",
       " 'avg_2_1_0',\n",
       " 'avg_2_4_0',\n",
       " 'avg_2_8_0',\n",
       " 'avg_4_16_0']"
      ]
     },
     "execution_count": 4,
     "metadata": {},
     "output_type": "execute_result"
    }
   ],
   "source": [
    "filenames"
   ]
  },
  {
   "cell_type": "code",
   "execution_count": 5,
   "metadata": {},
   "outputs": [],
   "source": [
    "config_file = os.path.join('exp',filenames[1],'config.yaml')\n",
    "config = EasyDict(yaml.load(open(config_file, 'r'), Loader=yaml.FullLoader))"
   ]
  },
  {
   "cell_type": "code",
   "execution_count": 6,
   "metadata": {},
   "outputs": [
    {
     "name": "stdout",
     "output_type": "stream",
     "text": [
      "25 4 7\n"
     ]
    }
   ],
   "source": [
    "data = torch.load('sulc')\n",
    "np.random.seed(config.seed)\n",
    "random.seed(config.seed)\n",
    "torch.manual_seed(config.seed)\n",
    "torch.cuda.manual_seed_all(config.seed)\n",
    "train_set = data[0:25]\n",
    "valid_set = data[25:29]\n",
    "test_set = data[29:]\n",
    "print(len(train_set), len(valid_set), len(test_set))\n",
    "\n",
    "train_loader = DataLoader(train_set, batch_size = 1, shuffle=True)\n",
    "valid_loader = DataLoader(valid_set, batch_size = 1)\n",
    "test_loader = DataLoader(test_set, batch_size = 1)"
   ]
  },
  {
   "cell_type": "code",
   "execution_count": 7,
   "metadata": {},
   "outputs": [],
   "source": [
    "device = \"cuda:2\" if torch.cuda.is_available() else \"cpu\""
   ]
  },
  {
   "cell_type": "code",
   "execution_count": 8,
   "metadata": {},
   "outputs": [],
   "source": [
    "def dice(pred,gt):\n",
    "    XnY = torch.ones((len(gt))).to(device)*14\n",
    "    for i in range(len(gt)):\n",
    "        if pred[i] == gt[i]:\n",
    "            XnY[i] = pred[i]\n",
    "    D = torch.zeros((14))\n",
    "    for j in range(14):\n",
    "        if ( len(torch.where(pred==j)[0])+len(torch.where(gt==j)[0])) == 0:\n",
    "            D[j] = 0\n",
    "        else:\n",
    "            D[j]=((2*len(torch.where(XnY==j)[0]))/( len(torch.where(pred==j)[0])+len(torch.where(gt==j)[0])) ) \n",
    "\n",
    "    dice = (torch.sum(D)-D[0])/13\n",
    "    return dice\n",
    "    "
   ]
  },
  {
   "cell_type": "code",
   "execution_count": 9,
   "metadata": {},
   "outputs": [],
   "source": [
    "def test(model):\n",
    "    d_list = []\n",
    "    model.eval()\n",
    "    with torch.no_grad():\n",
    "        test_dice = 0\n",
    "        for data in test_loader:\n",
    "            data = data.to(device)\n",
    "            out = model(data)\n",
    "            for n in range(config.num_samples):\n",
    "                pred = out[n].argmax(dim=1)\n",
    "        \n",
    "                d_list.append(dice(pred,data.y))\n",
    "    d_list = torch.tensor(d_list)\n",
    "        \n",
    "    print(torch.std_mean(d_list))"
   ]
  },
  {
   "cell_type": "code",
   "execution_count": 10,
   "metadata": {},
   "outputs": [],
   "source": [
    "def dist(model):\n",
    "    model.eval()\n",
    "    with torch.no_grad():\n",
    "        D_ged = []\n",
    "        for data in test_loader:\n",
    "            D = 0\n",
    "            S = []\n",
    "            data = data.to(device)\n",
    "            out = model(data)\n",
    "            for i in range(config.num_samples):\n",
    "                S.append(out[i].argmax(dim=1))\n",
    "        \n",
    "                d = 1 - dice(S[i], data.y)\n",
    "                D += (2/config.num_samples) * d\n",
    "            for i in range(config.num_samples):\n",
    "                for j in range(config.num_samples):\n",
    "                    d = 1 - dice(S[i],S[j])\n",
    "                    D -= d/(config.num_samples**2)\n",
    "                    \n",
    "            D_ged.append(D)\n",
    "        D_ged = torch.tensor(D_ged)\n",
    "                \n",
    "            \n",
    "        \n",
    "    print(torch.std_mean(D_ged))"
   ]
  },
  {
   "cell_type": "code",
   "execution_count": 12,
   "metadata": {},
   "outputs": [
    {
     "name": "stdout",
     "output_type": "stream",
     "text": [
      "(tensor(0.1171), tensor(1.1859))\n",
      "(tensor(0.1494), tensor(1.1932))\n",
      "(tensor(0.0874), tensor(1.1779))\n",
      "(tensor(0.1441), tensor(1.1645))\n",
      "(tensor(0.1251), tensor(1.1504))\n",
      "(tensor(0.1047), tensor(1.1989))\n",
      "(tensor(0.1432), tensor(1.1492))\n",
      "(tensor(0.1373), tensor(1.1304))\n"
     ]
    }
   ],
   "source": [
    "for i in range(8):\n",
    "    config_file = os.path.join('exp',filenames[i],'config.yaml')\n",
    "    config = EasyDict(yaml.load(open(config_file, 'r'), Loader=yaml.FullLoader))\n",
    "    model = ProbGraphUnet(config).to(device)\n",
    "    model.load_tate_dict(torch.load(os.path.join(config.save_dir, 'best_model.pt')))\n",
    "    dist(model)"
   ]
  },
  {
   "cell_type": "code",
   "execution_count": null,
   "metadata": {},
   "outputs": [],
   "source": [
    "model = ProbGraphUnet(config).to(device)\n",
    "\n",
    "model.load_state_dict(torch.load(os.path.join(config.save_dir, 'best_model.pt')))\n",
    "\n",
    "dist(model)"
   ]
  },
  {
   "cell_type": "code",
   "execution_count": 11,
   "metadata": {},
   "outputs": [
    {
     "data": {
      "text/plain": [
       "<All keys matched successfully>"
      ]
     },
     "execution_count": 11,
     "metadata": {},
     "output_type": "execute_result"
    }
   ],
   "source": [
    "model = EdgeUnet(in_channels=3, hidden_channels=[64,64,64], out_channels=32,\n",
    "                 depth=3, num_classes=14, sum_res=False).to(device)\n",
    "model.load_state_dict(torch.load('EGNN/best_model75.pt'))\n",
    "\n"
   ]
  },
  {
   "cell_type": "code",
   "execution_count": 12,
   "metadata": {},
   "outputs": [],
   "source": [
    "def test(model):\n",
    "    d_list = []\n",
    "    model.eval()\n",
    "    with torch.no_grad():\n",
    "        test_dice = 0\n",
    "        for data in test_loader:\n",
    "            data = data.to(device)\n",
    "            out = model(data)\n",
    "            pred = out.argmax(dim=1)\n",
    "        \n",
    "            d_list.append(dice(pred,data.y))\n",
    "    d_list = torch.tensor(d_list)\n",
    "        \n",
    "    print(torch.std_mean(d_list))"
   ]
  },
  {
   "cell_type": "code",
   "execution_count": 13,
   "metadata": {},
   "outputs": [
    {
     "name": "stdout",
     "output_type": "stream",
     "text": [
      "(tensor(0.0498), tensor(0.3483))\n"
     ]
    }
   ],
   "source": [
    "test(model)"
   ]
  },
  {
   "cell_type": "code",
   "execution_count": 9,
   "metadata": {},
   "outputs": [],
   "source": [
    "def dice(model):\n",
    "    x = range(1,14,1)\n",
    "    model.eval()\n",
    "    with torch.no_grad():\n",
    "        test_dice = 0\n",
    "        a = 0\n",
    "        b = 0\n",
    "        fig, ax = plt.subplots(2,4,figsize=(20,15))\n",
    "        fig.patch.set_facecolor('xkcd:white')\n",
    "        for data in test_loader:\n",
    "            data = data.to(device)\n",
    "            out = model(data)\n",
    "            pred = out.argmax(dim=1)\n",
    "        \n",
    "            XnY = torch.ones((len(data.y))).to(device)*14\n",
    "            for i in range(len(data.y)):\n",
    "                 if pred[i] == data.y[i]:\n",
    "                    XnY[i] = pred[i]\n",
    "            D = torch.zeros((14))\n",
    "            for j in range(14):\n",
    "                if ( len(torch.where(pred==j)[0])+len(torch.where(data.y==j)[0])) == 0:\n",
    "                    D[j] = 0\n",
    "                else:\n",
    "                    D[j]=((2*len(torch.where(XnY==j)[0]))/( len(torch.where(pred==j)[0])+len(torch.where(data.y==j)[0])) ) \n",
    "\n",
    "            dice = (torch.sum(D)-D[0])/13\n",
    "\n",
    "            ax[a,b].bar(x,D[1:])\n",
    "            test_dice += dice\n",
    "            if b != 3:\n",
    "                  b+=1\n",
    "            else:\n",
    "                a+=1\n",
    "                b=0\n",
    "    \n",
    "        plt.show()\n",
    "        test_dice = test_dice/len(test_set)\n",
    "    print(test_dice)"
   ]
  },
  {
   "cell_type": "code",
   "execution_count": 10,
   "metadata": {},
   "outputs": [
    {
     "data": {
      "image/png": "[encoded data removed]",
      "text/plain": [
       "<Figure size 1440x1080 with 8 Axes>"
      ]
     },
     "metadata": {},
     "output_type": "display_data"
    },
    {
     "name": "stdout",
     "output_type": "stream",
     "text": [
      "tensor(0.0789)\n"
     ]
    }
   ],
   "source": [
    "dice(model)"
   ]
  },
  {
   "cell_type": "code",
   "execution_count": null,
   "metadata": {},
   "outputs": [],
   "source": []
  }
 ],
 "metadata": {
  "kernelspec": {
   "display_name": "Python 3",
   "language": "python",
   "name": "python3"
  },
  "language_info": {
   "codemirror_mode": {
    "name": "ipython",
    "version": 3
   },
   "file_extension": ".py",
   "mimetype": "text/x-python",
   "name": "python",
   "nbconvert_exporter": "python",
   "pygments_lexer": "ipython3",
   "version": "3.6.10"
  },
  "toc": {
   "base_numbering": 1,
   "nav_menu": {},
   "number_sections": true,
   "sideBar": true,
   "skip_h1_title": false,
   "title_cell": "Table of Contents",
   "title_sidebar": "Contents",
   "toc_cell": false,
   "toc_position": {},
   "toc_section_display": true,
   "toc_window_display": false
  },
  "varInspector": {
   "cols": {
    "lenName": 16,
    "lenType": 16,
    "lenVar": 40
   },
   "kernels_config": {
    "python": {
     "delete_cmd_postfix": "",
     "delete_cmd_prefix": "del ",
     "library": "var_list.py",
     "varRefreshCmd": "print(var_dic_list())"
    },
    "r": {
     "delete_cmd_postfix": ") ",
     "delete_cmd_prefix": "rm(",
     "library": "var_list.r",
     "varRefreshCmd": "cat(var_dic_list()) "
    }
   },
   "types_to_exclude": [
    "module",
    "function",
    "builtin_function_or_method",
    "instance",
    "_Feature"
   ],
   "window_display": false
  }
 },
 "nbformat": 4,
 "nbformat_minor": 4
}
