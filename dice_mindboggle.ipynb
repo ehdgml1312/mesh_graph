{
 "cells": [
  {
   "cell_type": "code",
   "execution_count": 1,
   "metadata": {},
   "outputs": [],
   "source": [
    "import torch\n",
    "from torch_geometric.data import DataLoader\n",
    "from tqdm import tqdm\n",
    "from torch import optim\n",
    "import torch.nn.functional as F\n",
    "import random\n",
    "import matplotlib.pyplot as plt\n",
    "plt.style.use('default')\n",
    "from model import *\n",
    "import numpy as np\n",
    "from point_trans import PointTransformerConv\n",
    "from torch_geometric.nn import EdgeConv\n",
    "import torch.nn as nn"
   ]
  },
  {
   "cell_type": "code",
   "execution_count": 2,
   "metadata": {},
   "outputs": [
    {
     "name": "stdout",
     "output_type": "stream",
     "text": [
      "25 4 7\n"
     ]
    }
   ],
   "source": [
    "data = torch.load('sulc')\n",
    "np.random.seed(1)\n",
    "random.seed(1)\n",
    "torch.manual_seed(1)\n",
    "torch.cuda.manual_seed_all(1)\n",
    "random.shuffle(data)\n",
    "\n",
    "train_set = data[0:25]\n",
    "valid_set = data[25:29]\n",
    "test_set = data[29:]\n",
    "print(len(train_set), len(valid_set), len(test_set))"
   ]
  },
  {
   "cell_type": "code",
   "execution_count": 2,
   "metadata": {},
   "outputs": [],
   "source": [
    "def dice(pred, gt):\n",
    "    XnY = torch.ones((len(gt))).to(device) * 32\n",
    "    for i in range(len(gt)):\n",
    "        if pred[i] == gt[i]:\n",
    "            XnY[i] = pred[i]\n",
    "    D = torch.zeros((32))\n",
    "    for j in range(32):\n",
    "        if (len(torch.where(pred == j)[0]) + len(torch.where(gt == j)[0])) == 0:\n",
    "            D[j] = 0\n",
    "        else:\n",
    "            D[j] = ((2 * len(torch.where(XnY == j)[0])) / (\n",
    "                        len(torch.where(pred == j)[0]) + len(torch.where(gt == j)[0])))\n",
    "\n",
    "    dice = torch.sum(D)/32\n",
    "    return dice"
   ]
  },
  {
   "cell_type": "code",
   "execution_count": 3,
   "metadata": {},
   "outputs": [],
   "source": [
    "def dice_sulc(pred,gt):\n",
    "    XnY = torch.ones((len(gt))).to(device)*14\n",
    "    for i in range(len(gt)):\n",
    "        if pred[i] == gt[i]:\n",
    "            XnY[i] = pred[i]\n",
    "    D = torch.zeros((14))\n",
    "    for j in range(14):\n",
    "        if ( len(torch.where(pred==j)[0])+len(torch.where(gt==j)[0])) == 0:\n",
    "            D[j] = 0\n",
    "        else:\n",
    "            D[j]=((2*len(torch.where(XnY==j)[0]))/( len(torch.where(pred==j)[0])+len(torch.where(gt==j)[0])) ) \n",
    "\n",
    "    dice = (torch.sum(D)-D[0])/13\n",
    "    return dice\n",
    "    "
   ]
  },
  {
   "cell_type": "code",
   "execution_count": 4,
   "metadata": {},
   "outputs": [
    {
     "name": "stdout",
     "output_type": "stream",
     "text": [
      "Sun Apr 10 09:23:46 2022       \n",
      "+-----------------------------------------------------------------------------+\n",
      "| NVIDIA-SMI 418.87.01    Driver Version: 418.87.01    CUDA Version: 11.0     |\n",
      "|-------------------------------+----------------------+----------------------+\n",
      "| GPU  Name        Persistence-M| Bus-Id        Disp.A | Volatile Uncorr. ECC |\n",
      "| Fan  Temp  Perf  Pwr:Usage/Cap|         Memory-Usage | GPU-Util  Compute M. |\n",
      "|===============================+======================+======================|\n",
      "|   0  Tesla V100-DGXS...  On   | 00000000:07:00.0  On |                    0 |\n",
      "| N/A   55C    P0    54W / 300W |   1807MiB / 32475MiB |      0%      Default |\n",
      "+-------------------------------+----------------------+----------------------+\n",
      "|   1  Tesla V100-DGXS...  On   | 00000000:08:00.0 Off |                    0 |\n",
      "| N/A   55C    P0    36W / 300W |     12MiB / 32478MiB |      0%      Default |\n",
      "+-------------------------------+----------------------+----------------------+\n",
      "|   2  Tesla V100-DGXS...  On   | 00000000:0E:00.0 Off |                    0 |\n",
      "| N/A   61C    P0   192W / 300W |  21543MiB / 32478MiB |     84%      Default |\n",
      "+-------------------------------+----------------------+----------------------+\n",
      "|   3  Tesla V100-DGXS...  On   | 00000000:0F:00.0 Off |                    0 |\n",
      "| N/A   59C    P0   220W / 300W |  21321MiB / 32478MiB |     90%      Default |\n",
      "+-------------------------------+----------------------+----------------------+\n",
      "                                                                               \n",
      "+-----------------------------------------------------------------------------+\n",
      "| Processes:                                                       GPU Memory |\n",
      "|  GPU       PID   Type   Process name                             Usage      |\n",
      "|=============================================================================|\n",
      "+-----------------------------------------------------------------------------+\n"
     ]
    }
   ],
   "source": [
    "!nvidia-smi"
   ]
  },
  {
   "cell_type": "code",
   "execution_count": 13,
   "metadata": {},
   "outputs": [
    {
     "name": "stdout",
     "output_type": "stream",
     "text": [
      "71 10 20\n"
     ]
    }
   ],
   "source": [
    "data = torch.load('sphere6')\n",
    "np.random.seed(1)\n",
    "random.seed(1)\n",
    "torch.manual_seed(1)\n",
    "torch.cuda.manual_seed_all(1)\n",
    "random.shuffle(data)\n",
    "\n",
    "train_set = data[0:71]\n",
    "valid_set = data[71:81]\n",
    "test_set = data[81:]\n",
    "print(len(train_set), len(valid_set), len(test_set))\n",
    "\n",
    "train_loader = DataLoader(train_set, batch_size = 1, shuffle=True)\n",
    "valid_loader = DataLoader(valid_set, batch_size = 1)\n",
    "test_loader = DataLoader(test_set, batch_size = 1)"
   ]
  },
  {
   "cell_type": "code",
   "execution_count": 14,
   "metadata": {},
   "outputs": [],
   "source": [
    "device = \"cuda:1\" if torch.cuda.is_available() else \"cpu\""
   ]
  },
  {
   "cell_type": "code",
   "execution_count": 18,
   "metadata": {
    "code_folding": [
     0
    ]
   },
   "outputs": [
    {
     "data": {
      "text/plain": [
       "<All keys matched successfully>"
      ]
     },
     "execution_count": 18,
     "metadata": {},
     "output_type": "execute_result"
    }
   ],
   "source": [
    "class Net(torch.nn.Module):\n",
    "    def __init__(self, in_channels,hidden_channels,out_channels, conv, aggr='max'):\n",
    "        super().__init__()\n",
    "        self.in_channels = in_channels\n",
    "        self.hidden_channels = hidden_channels\n",
    "        self.conv = conv\n",
    "\n",
    "        if self.conv == 'edge':\n",
    "            self.conv1 = EdgeConv(nn.Linear(2 * in_channels, self.hidden_channels[0]), aggr)\n",
    "            self.conv2 = EdgeConv(nn.Linear(2 * (in_channels+self.hidden_channels[0]), self.hidden_channels[1]), aggr)\n",
    "            self.conv3 = EdgeConv(nn.Linear(2 * (in_channels+self.hidden_channels[0]+self.hidden_channels[1]), self.hidden_channels[2]), aggr)\n",
    "            self.conv4 = EdgeConv(nn.Linear(2 * (in_channels+self.hidden_channels[0]+self.hidden_channels[1]+self.hidden_channels[2]), self.hidden_channels[3]), aggr)\n",
    "        else:\n",
    "            self.conv1 = PointTransformerConv(in_channels, self.hidden_channels[0])\n",
    "            self.conv2 = PointTransformerConv(in_channels+self.hidden_channels[0], self.hidden_channels[1])\n",
    "            self.conv3 = PointTransformerConv(in_channels+self.hidden_channels[0]+self.hidden_channels[1], self.hidden_channels[2])\n",
    "            self.conv4 = PointTransformerConv(in_channels+self.hidden_channels[0]+self.hidden_channels[1]+self.hidden_channels[2], self.hidden_channels[3])\n",
    "\n",
    "\n",
    "        self.mlp1 = nn.Linear(in_channels+sum(self.hidden_channels), 64)\n",
    "        self.mlp2 = nn.Linear(64, out_channels)\n",
    "\n",
    "        self.dropout = nn.Dropout(p = 0.5)\n",
    "\n",
    "    def forward(self, data):\n",
    "        x, edge_index, pos, batch = data.x[:,:self.in_channels], data.edge_index, data.x[:,:3], data.batch\n",
    "\n",
    "        if self.conv == 'edge':\n",
    "            x1 = self.conv1(x, edge_index)\n",
    "        else:\n",
    "            x1 = self.conv1(x, pos, edge_index)\n",
    "        x1 = F.leaky_relu(x1)\n",
    "\n",
    "        x2 = torch.cat([x, x1], 1)\n",
    "        if self.conv == 'edge':\n",
    "            x2 = self.conv2(x2, edge_index)\n",
    "        else:\n",
    "            x2 = self.conv2(x2, pos, edge_index)\n",
    "        x2 = F.leaky_relu(x2)\n",
    "\n",
    "        x3 = torch.cat([x, x1, x2], 1)\n",
    "        if self.conv == 'edge':\n",
    "            x3 = self.conv3(x3, edge_index)\n",
    "        else:\n",
    "            x3 = self.conv3(x3, pos, edge_index)\n",
    "        x3 = F.leaky_relu(x3)\n",
    "\n",
    "        x4 = torch.cat([x, x1, x2, x3], 1)\n",
    "        if self.conv == 'edge':\n",
    "            x4 = self.conv4(x4, edge_index)\n",
    "        else:\n",
    "            x4 = self.conv4(x4, pos, edge_index)\n",
    "        x4 = F.leaky_relu(x4)\n",
    "\n",
    "        out = torch.cat([x, x1, x2, x3, x4], 1)\n",
    "        # m = self.mlp(out)\n",
    "        # m = m.max(0).values.repeat(len(x), 1)\n",
    "        #\n",
    "        # out = torch.cat([out, m], 1)\n",
    "        out = self.dropout(out)\n",
    "        out = self.mlp1(out)\n",
    "        out = self.mlp2(out)\n",
    "\n",
    "        return out\n",
    "model = Net(6,[256,128,64,32],32,'trans').to(device)\n",
    "model.load_state_dict(torch.load('exp/sphere6/trans/best_model.pt'))"
   ]
  },
  {
   "cell_type": "code",
   "execution_count": 19,
   "metadata": {},
   "outputs": [
    {
     "data": {
      "text/plain": [
       "Data(edge_index=[2, 422982], x=[40962, 7], y=[40962])"
      ]
     },
     "execution_count": 19,
     "metadata": {},
     "output_type": "execute_result"
    }
   ],
   "source": [
    "train_set[0]"
   ]
  },
  {
   "cell_type": "code",
   "execution_count": null,
   "metadata": {
    "scrolled": false
   },
   "outputs": [],
   "source": [
    "model.eval()\n",
    "with torch.no_grad():\n",
    "    test_dice = 0\n",
    "\n",
    "    for data in test_loader:\n",
    "        data = data.to(device)\n",
    "        out = model(data)\n",
    "        pred = out.argmax(dim=1)\n",
    "\n",
    "        D = dice(pred, data.y)\n",
    "#         D = dice_sulc(pred, data.y)\n",
    "\n",
    "        test_dice += D\n",
    "    test_dice /= len(test_set)\n",
    "print(test_dice)"
   ]
  },
  {
   "cell_type": "code",
   "execution_count": 3,
   "metadata": {},
   "outputs": [],
   "source": [
    "train_loss = torch.load('exp/sphere6/trans/train_loss.txt')\n",
    "val_loss = torch.load('exp/sphere6/trans/valid_loss.txt')"
   ]
  },
  {
   "cell_type": "code",
   "execution_count": 4,
   "metadata": {
    "scrolled": true
   },
   "outputs": [
    {
     "data": {
      "text/plain": [
       "Text(0.5, 1.0, 'edge conv - dense connection')"
      ]
     },
     "execution_count": 4,
     "metadata": {},
     "output_type": "execute_result"
    },
    {
     "data": {
      "image/png": "[encoded data removed]",
      "text/plain": [
       "<Figure size 640x480 with 1 Axes>"
      ]
     },
     "metadata": {},
     "output_type": "display_data"
    }
   ],
   "source": [
    "plt.plot(train_loss,label = 'train')\n",
    "plt.plot(val_loss,label = 'valid')\n",
    "# plt.ylim(0.4,0.6)\n",
    "plt.legend()\n",
    "plt.title('edge conv - dense connection')"
   ]
  },
  {
   "cell_type": "code",
   "execution_count": 25,
   "metadata": {},
   "outputs": [],
   "source": [
    "train_loss_history = train_loss\n",
    "valid_loss_history = val_loss"
   ]
  },
  {
   "cell_type": "code",
   "execution_count": null,
   "metadata": {},
   "outputs": [
    {
     "name": "stderr",
     "output_type": "stream",
     "text": [
      "  1%|          | 1/100 [01:36<2:39:30, 96.68s/it]"
     ]
    },
    {
     "name": "stdout",
     "output_type": "stream",
     "text": [
      "Epoch: 000 Train Loss: 2.9399  Valid Loss: 1.9641\n"
     ]
    },
    {
     "name": "stderr",
     "output_type": "stream",
     "text": [
      "\r",
      "  2%|▏         | 2/100 [02:54<2:28:53, 91.16s/it]"
     ]
    },
    {
     "name": "stdout",
     "output_type": "stream",
     "text": [
      "Epoch: 001 Train Loss: 1.3860  Valid Loss: 1.0993\n"
     ]
    },
    {
     "name": "stderr",
     "output_type": "stream",
     "text": [
      "\r",
      "  3%|▎         | 3/100 [04:13<2:21:02, 87.24s/it]"
     ]
    },
    {
     "name": "stdout",
     "output_type": "stream",
     "text": [
      "Epoch: 002 Train Loss: 1.0567  Valid Loss: 1.0150\n"
     ]
    },
    {
     "name": "stderr",
     "output_type": "stream",
     "text": [
      "\r",
      "  4%|▍         | 4/100 [05:31<2:15:12, 84.50s/it]"
     ]
    },
    {
     "name": "stdout",
     "output_type": "stream",
     "text": [
      "Epoch: 003 Train Loss: 0.9990  Valid Loss: 0.9322\n"
     ]
    },
    {
     "name": "stderr",
     "output_type": "stream",
     "text": [
      "\r",
      "  5%|▌         | 5/100 [06:49<2:10:54, 82.68s/it]"
     ]
    },
    {
     "name": "stdout",
     "output_type": "stream",
     "text": [
      "Epoch: 004 Train Loss: 0.9617  Valid Loss: 0.9106\n"
     ]
    },
    {
     "name": "stderr",
     "output_type": "stream",
     "text": [
      "\r",
      "  6%|▌         | 6/100 [08:08<2:07:31, 81.40s/it]"
     ]
    },
    {
     "name": "stdout",
     "output_type": "stream",
     "text": [
      "Epoch: 005 Train Loss: 0.9294  Valid Loss: 0.8884\n"
     ]
    },
    {
     "name": "stderr",
     "output_type": "stream",
     "text": [
      "\r",
      "  7%|▋         | 7/100 [09:26<2:04:50, 80.54s/it]"
     ]
    },
    {
     "name": "stdout",
     "output_type": "stream",
     "text": [
      "Epoch: 006 Train Loss: 0.9115  Valid Loss: 0.8595\n"
     ]
    },
    {
     "name": "stderr",
     "output_type": "stream",
     "text": [
      "\r",
      "  8%|▊         | 8/100 [10:45<2:02:32, 79.92s/it]"
     ]
    },
    {
     "name": "stdout",
     "output_type": "stream",
     "text": [
      "Epoch: 007 Train Loss: 0.8903  Valid Loss: 0.8483\n"
     ]
    }
   ],
   "source": [
    "optimizer = optim.Adam(model.parameters(), lr=0.01)\n",
    "scheduler = optim.lr_scheduler.MultiStepLR(optimizer, milestones=[100, 200, 300, 400], gamma=0.8)\n",
    "\n",
    "best_loss = 0.5575\n",
    "for epoch in tqdm(range(100)):\n",
    "    model.train()\n",
    "    train_loss = 0\n",
    "    valid_loss = 0\n",
    "\n",
    "    for data in train_loader:\n",
    "        data = data.to(device)\n",
    "        optimizer.zero_grad()\n",
    "        out = model(data)\n",
    "\n",
    "        weight = torch.bincount(data.y) / len(data.y)\n",
    "        weight = 1 / weight\n",
    "        weight = weight / weight.sum()\n",
    "        criterion = torch.nn.CrossEntropyLoss(weight=weight)\n",
    "\n",
    "        loss = criterion(out, data.y)\n",
    "        loss.backward()\n",
    "        optimizer.step()\n",
    "        train_loss += loss\n",
    "\n",
    "    model.eval()\n",
    "    with torch.no_grad():\n",
    "        for data in valid_loader:\n",
    "            data = data.to(device)\n",
    "            out = model(data)\n",
    "\n",
    "            weight = torch.bincount(data.y) / len(data.y)\n",
    "            weight = 1 / weight\n",
    "            weight = weight / weight.sum()\n",
    "            criterion = torch.nn.CrossEntropyLoss(weight=weight)\n",
    "\n",
    "            loss = criterion(out, data.y)\n",
    "            valid_loss += loss\n",
    "\n",
    "    train_loss = train_loss / len(train_set)\n",
    "    valid_loss = valid_loss / len(valid_set)\n",
    "\n",
    "    train_loss_history.append(train_loss)\n",
    "    valid_loss_history.append(valid_loss)\n",
    "\n",
    "    if valid_loss < best_loss:\n",
    "        best_loss = valid_loss\n",
    "        torch.save(model.state_dict(), 'exp/mindboggle/trans/best_model')\n",
    "\n",
    "    print(f'Epoch: {epoch:03d} Train Loss: {train_loss:.4f}  Valid Loss: {valid_loss:.4f}')\n",
    "torch.save(train_loss_history, 'exp/mindboggle/trans/train_loss.txt')\n",
    "torch.save(valid_loss_history, 'exp/mindboggle/trans/valid_loss.txt')"
   ]
  },
  {
   "cell_type": "code",
   "execution_count": 9,
   "metadata": {
    "scrolled": true
   },
   "outputs": [
    {
     "name": "stdout",
     "output_type": "stream",
     "text": [
      "Tue Feb  8 14:18:53 2022       \n",
      "+-----------------------------------------------------------------------------+\n",
      "| NVIDIA-SMI 418.87.01    Driver Version: 418.87.01    CUDA Version: 11.0     |\n",
      "|-------------------------------+----------------------+----------------------+\n",
      "| GPU  Name        Persistence-M| Bus-Id        Disp.A | Volatile Uncorr. ECC |\n",
      "| Fan  Temp  Perf  Pwr:Usage/Cap|         Memory-Usage | GPU-Util  Compute M. |\n",
      "|===============================+======================+======================|\n",
      "|   0  Tesla V100-DGXS...  On   | 00000000:07:00.0  On |                    0 |\n",
      "| N/A   46C    P0   131W / 300W |   5318MiB / 32475MiB |     38%      Default |\n",
      "+-------------------------------+----------------------+----------------------+\n",
      "|   1  Tesla V100-DGXS...  On   | 00000000:08:00.0 Off |                    0 |\n",
      "| N/A   46C    P0    99W / 300W |  25241MiB / 32478MiB |    100%      Default |\n",
      "+-------------------------------+----------------------+----------------------+\n",
      "|   2  Tesla V100-DGXS...  On   | 00000000:0E:00.0 Off |                    0 |\n",
      "| N/A   45C    P0    37W / 300W |     12MiB / 32478MiB |      0%      Default |\n",
      "+-------------------------------+----------------------+----------------------+\n",
      "|   3  Tesla V100-DGXS...  On   | 00000000:0F:00.0 Off |                    0 |\n",
      "| N/A   43C    P0    37W / 300W |     12MiB / 32478MiB |      0%      Default |\n",
      "+-------------------------------+----------------------+----------------------+\n",
      "                                                                               \n",
      "+-----------------------------------------------------------------------------+\n",
      "| Processes:                                                       GPU Memory |\n",
      "|  GPU       PID   Type   Process name                             Usage      |\n",
      "|=============================================================================|\n",
      "+-----------------------------------------------------------------------------+\n"
     ]
    }
   ],
   "source": [
    "!nvidia-smi"
   ]
  },
  {
   "cell_type": "code",
   "execution_count": null,
   "metadata": {},
   "outputs": [],
   "source": []
  }
 ],
 "metadata": {
  "kernelspec": {
   "display_name": "Python 3",
   "language": "python",
   "name": "python3"
  },
  "language_info": {
   "codemirror_mode": {
    "name": "ipython",
    "version": 3
   },
   "file_extension": ".py",
   "mimetype": "text/x-python",
   "name": "python",
   "nbconvert_exporter": "python",
   "pygments_lexer": "ipython3",
   "version": "3.6.10"
  },
  "toc": {
   "base_numbering": 1,
   "nav_menu": {},
   "number_sections": true,
   "sideBar": true,
   "skip_h1_title": false,
   "title_cell": "Table of Contents",
   "title_sidebar": "Contents",
   "toc_cell": false,
   "toc_position": {},
   "toc_section_display": true,
   "toc_window_display": false
  },
  "varInspector": {
   "cols": {
    "lenName": 16,
    "lenType": 16,
    "lenVar": 40
   },
   "kernels_config": {
    "python": {
     "delete_cmd_postfix": "",
     "delete_cmd_prefix": "del ",
     "library": "var_list.py",
     "varRefreshCmd": "print(var_dic_list())"
    },
    "r": {
     "delete_cmd_postfix": ") ",
     "delete_cmd_prefix": "rm(",
     "library": "var_list.r",
     "varRefreshCmd": "cat(var_dic_list()) "
    }
   },
   "types_to_exclude": [
    "module",
    "function",
    "builtin_function_or_method",
    "instance",
    "_Feature"
   ],
   "window_display": false
  }
 },
 "nbformat": 4,
 "nbformat_minor": 4
}
